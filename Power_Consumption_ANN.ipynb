{
  "nbformat": 4,
  "nbformat_minor": 0,
  "metadata": {
    "colab": {
      "provenance": [],
      "gpuType": "T4"
    },
    "kernelspec": {
      "name": "python3",
      "display_name": "Python 3"
    },
    "language_info": {
      "name": "python"
    },
    "accelerator": "GPU"
  },
  "cells": [
    {
      "cell_type": "code",
      "source": [
        "import pandas as pd\n",
        "import numpy as np\n"
      ],
      "metadata": {
        "id": "-g72nul0Nhg3"
      },
      "execution_count": 56,
      "outputs": []
    },
    {
      "cell_type": "code",
      "source": [
        "df=pd.read_csv('/content/electrical_power.csv')"
      ],
      "metadata": {
        "id": "mGYqNliTNmM0"
      },
      "execution_count": 57,
      "outputs": []
    },
    {
      "cell_type": "code",
      "source": [
        "df.head()"
      ],
      "metadata": {
        "colab": {
          "base_uri": "https://localhost:8080/",
          "height": 206
        },
        "id": "Lr9yuu14NpMd",
        "outputId": "9a55d422-39ca-457a-92b9-2e4d74d07261"
      },
      "execution_count": 58,
      "outputs": [
        {
          "output_type": "execute_result",
          "data": {
            "text/plain": [
              "      AT      V       AP     RH      PE\n",
              "0   8.34  40.77  1010.84  90.01  480.48\n",
              "1  23.64  58.49  1011.40  74.20  445.75\n",
              "2  29.74  56.90  1007.15  41.91  438.76\n",
              "3  19.07  49.69  1007.22  76.79  453.09\n",
              "4  11.80  40.66  1017.13  97.20  464.43"
            ],
            "text/html": [
              "\n",
              "  <div id=\"df-ffcdc113-ddb3-482d-ad56-684f35ab7294\" class=\"colab-df-container\">\n",
              "    <div>\n",
              "<style scoped>\n",
              "    .dataframe tbody tr th:only-of-type {\n",
              "        vertical-align: middle;\n",
              "    }\n",
              "\n",
              "    .dataframe tbody tr th {\n",
              "        vertical-align: top;\n",
              "    }\n",
              "\n",
              "    .dataframe thead th {\n",
              "        text-align: right;\n",
              "    }\n",
              "</style>\n",
              "<table border=\"1\" class=\"dataframe\">\n",
              "  <thead>\n",
              "    <tr style=\"text-align: right;\">\n",
              "      <th></th>\n",
              "      <th>AT</th>\n",
              "      <th>V</th>\n",
              "      <th>AP</th>\n",
              "      <th>RH</th>\n",
              "      <th>PE</th>\n",
              "    </tr>\n",
              "  </thead>\n",
              "  <tbody>\n",
              "    <tr>\n",
              "      <th>0</th>\n",
              "      <td>8.34</td>\n",
              "      <td>40.77</td>\n",
              "      <td>1010.84</td>\n",
              "      <td>90.01</td>\n",
              "      <td>480.48</td>\n",
              "    </tr>\n",
              "    <tr>\n",
              "      <th>1</th>\n",
              "      <td>23.64</td>\n",
              "      <td>58.49</td>\n",
              "      <td>1011.40</td>\n",
              "      <td>74.20</td>\n",
              "      <td>445.75</td>\n",
              "    </tr>\n",
              "    <tr>\n",
              "      <th>2</th>\n",
              "      <td>29.74</td>\n",
              "      <td>56.90</td>\n",
              "      <td>1007.15</td>\n",
              "      <td>41.91</td>\n",
              "      <td>438.76</td>\n",
              "    </tr>\n",
              "    <tr>\n",
              "      <th>3</th>\n",
              "      <td>19.07</td>\n",
              "      <td>49.69</td>\n",
              "      <td>1007.22</td>\n",
              "      <td>76.79</td>\n",
              "      <td>453.09</td>\n",
              "    </tr>\n",
              "    <tr>\n",
              "      <th>4</th>\n",
              "      <td>11.80</td>\n",
              "      <td>40.66</td>\n",
              "      <td>1017.13</td>\n",
              "      <td>97.20</td>\n",
              "      <td>464.43</td>\n",
              "    </tr>\n",
              "  </tbody>\n",
              "</table>\n",
              "</div>\n",
              "    <div class=\"colab-df-buttons\">\n",
              "\n",
              "  <div class=\"colab-df-container\">\n",
              "    <button class=\"colab-df-convert\" onclick=\"convertToInteractive('df-ffcdc113-ddb3-482d-ad56-684f35ab7294')\"\n",
              "            title=\"Convert this dataframe to an interactive table.\"\n",
              "            style=\"display:none;\">\n",
              "\n",
              "  <svg xmlns=\"http://www.w3.org/2000/svg\" height=\"24px\" viewBox=\"0 -960 960 960\">\n",
              "    <path d=\"M120-120v-720h720v720H120Zm60-500h600v-160H180v160Zm220 220h160v-160H400v160Zm0 220h160v-160H400v160ZM180-400h160v-160H180v160Zm440 0h160v-160H620v160ZM180-180h160v-160H180v160Zm440 0h160v-160H620v160Z\"/>\n",
              "  </svg>\n",
              "    </button>\n",
              "\n",
              "  <style>\n",
              "    .colab-df-container {\n",
              "      display:flex;\n",
              "      gap: 12px;\n",
              "    }\n",
              "\n",
              "    .colab-df-convert {\n",
              "      background-color: #E8F0FE;\n",
              "      border: none;\n",
              "      border-radius: 50%;\n",
              "      cursor: pointer;\n",
              "      display: none;\n",
              "      fill: #1967D2;\n",
              "      height: 32px;\n",
              "      padding: 0 0 0 0;\n",
              "      width: 32px;\n",
              "    }\n",
              "\n",
              "    .colab-df-convert:hover {\n",
              "      background-color: #E2EBFA;\n",
              "      box-shadow: 0px 1px 2px rgba(60, 64, 67, 0.3), 0px 1px 3px 1px rgba(60, 64, 67, 0.15);\n",
              "      fill: #174EA6;\n",
              "    }\n",
              "\n",
              "    .colab-df-buttons div {\n",
              "      margin-bottom: 4px;\n",
              "    }\n",
              "\n",
              "    [theme=dark] .colab-df-convert {\n",
              "      background-color: #3B4455;\n",
              "      fill: #D2E3FC;\n",
              "    }\n",
              "\n",
              "    [theme=dark] .colab-df-convert:hover {\n",
              "      background-color: #434B5C;\n",
              "      box-shadow: 0px 1px 3px 1px rgba(0, 0, 0, 0.15);\n",
              "      filter: drop-shadow(0px 1px 2px rgba(0, 0, 0, 0.3));\n",
              "      fill: #FFFFFF;\n",
              "    }\n",
              "  </style>\n",
              "\n",
              "    <script>\n",
              "      const buttonEl =\n",
              "        document.querySelector('#df-ffcdc113-ddb3-482d-ad56-684f35ab7294 button.colab-df-convert');\n",
              "      buttonEl.style.display =\n",
              "        google.colab.kernel.accessAllowed ? 'block' : 'none';\n",
              "\n",
              "      async function convertToInteractive(key) {\n",
              "        const element = document.querySelector('#df-ffcdc113-ddb3-482d-ad56-684f35ab7294');\n",
              "        const dataTable =\n",
              "          await google.colab.kernel.invokeFunction('convertToInteractive',\n",
              "                                                    [key], {});\n",
              "        if (!dataTable) return;\n",
              "\n",
              "        const docLinkHtml = 'Like what you see? Visit the ' +\n",
              "          '<a target=\"_blank\" href=https://colab.research.google.com/notebooks/data_table.ipynb>data table notebook</a>'\n",
              "          + ' to learn more about interactive tables.';\n",
              "        element.innerHTML = '';\n",
              "        dataTable['output_type'] = 'display_data';\n",
              "        await google.colab.output.renderOutput(dataTable, element);\n",
              "        const docLink = document.createElement('div');\n",
              "        docLink.innerHTML = docLinkHtml;\n",
              "        element.appendChild(docLink);\n",
              "      }\n",
              "    </script>\n",
              "  </div>\n",
              "\n",
              "\n",
              "<div id=\"df-1e9115f4-b95b-4190-949d-1a1d28623fb2\">\n",
              "  <button class=\"colab-df-quickchart\" onclick=\"quickchart('df-1e9115f4-b95b-4190-949d-1a1d28623fb2')\"\n",
              "            title=\"Suggest charts\"\n",
              "            style=\"display:none;\">\n",
              "\n",
              "<svg xmlns=\"http://www.w3.org/2000/svg\" height=\"24px\"viewBox=\"0 0 24 24\"\n",
              "     width=\"24px\">\n",
              "    <g>\n",
              "        <path d=\"M19 3H5c-1.1 0-2 .9-2 2v14c0 1.1.9 2 2 2h14c1.1 0 2-.9 2-2V5c0-1.1-.9-2-2-2zM9 17H7v-7h2v7zm4 0h-2V7h2v10zm4 0h-2v-4h2v4z\"/>\n",
              "    </g>\n",
              "</svg>\n",
              "  </button>\n",
              "\n",
              "<style>\n",
              "  .colab-df-quickchart {\n",
              "      --bg-color: #E8F0FE;\n",
              "      --fill-color: #1967D2;\n",
              "      --hover-bg-color: #E2EBFA;\n",
              "      --hover-fill-color: #174EA6;\n",
              "      --disabled-fill-color: #AAA;\n",
              "      --disabled-bg-color: #DDD;\n",
              "  }\n",
              "\n",
              "  [theme=dark] .colab-df-quickchart {\n",
              "      --bg-color: #3B4455;\n",
              "      --fill-color: #D2E3FC;\n",
              "      --hover-bg-color: #434B5C;\n",
              "      --hover-fill-color: #FFFFFF;\n",
              "      --disabled-bg-color: #3B4455;\n",
              "      --disabled-fill-color: #666;\n",
              "  }\n",
              "\n",
              "  .colab-df-quickchart {\n",
              "    background-color: var(--bg-color);\n",
              "    border: none;\n",
              "    border-radius: 50%;\n",
              "    cursor: pointer;\n",
              "    display: none;\n",
              "    fill: var(--fill-color);\n",
              "    height: 32px;\n",
              "    padding: 0;\n",
              "    width: 32px;\n",
              "  }\n",
              "\n",
              "  .colab-df-quickchart:hover {\n",
              "    background-color: var(--hover-bg-color);\n",
              "    box-shadow: 0 1px 2px rgba(60, 64, 67, 0.3), 0 1px 3px 1px rgba(60, 64, 67, 0.15);\n",
              "    fill: var(--button-hover-fill-color);\n",
              "  }\n",
              "\n",
              "  .colab-df-quickchart-complete:disabled,\n",
              "  .colab-df-quickchart-complete:disabled:hover {\n",
              "    background-color: var(--disabled-bg-color);\n",
              "    fill: var(--disabled-fill-color);\n",
              "    box-shadow: none;\n",
              "  }\n",
              "\n",
              "  .colab-df-spinner {\n",
              "    border: 2px solid var(--fill-color);\n",
              "    border-color: transparent;\n",
              "    border-bottom-color: var(--fill-color);\n",
              "    animation:\n",
              "      spin 1s steps(1) infinite;\n",
              "  }\n",
              "\n",
              "  @keyframes spin {\n",
              "    0% {\n",
              "      border-color: transparent;\n",
              "      border-bottom-color: var(--fill-color);\n",
              "      border-left-color: var(--fill-color);\n",
              "    }\n",
              "    20% {\n",
              "      border-color: transparent;\n",
              "      border-left-color: var(--fill-color);\n",
              "      border-top-color: var(--fill-color);\n",
              "    }\n",
              "    30% {\n",
              "      border-color: transparent;\n",
              "      border-left-color: var(--fill-color);\n",
              "      border-top-color: var(--fill-color);\n",
              "      border-right-color: var(--fill-color);\n",
              "    }\n",
              "    40% {\n",
              "      border-color: transparent;\n",
              "      border-right-color: var(--fill-color);\n",
              "      border-top-color: var(--fill-color);\n",
              "    }\n",
              "    60% {\n",
              "      border-color: transparent;\n",
              "      border-right-color: var(--fill-color);\n",
              "    }\n",
              "    80% {\n",
              "      border-color: transparent;\n",
              "      border-right-color: var(--fill-color);\n",
              "      border-bottom-color: var(--fill-color);\n",
              "    }\n",
              "    90% {\n",
              "      border-color: transparent;\n",
              "      border-bottom-color: var(--fill-color);\n",
              "    }\n",
              "  }\n",
              "</style>\n",
              "\n",
              "  <script>\n",
              "    async function quickchart(key) {\n",
              "      const quickchartButtonEl =\n",
              "        document.querySelector('#' + key + ' button');\n",
              "      quickchartButtonEl.disabled = true;  // To prevent multiple clicks.\n",
              "      quickchartButtonEl.classList.add('colab-df-spinner');\n",
              "      try {\n",
              "        const charts = await google.colab.kernel.invokeFunction(\n",
              "            'suggestCharts', [key], {});\n",
              "      } catch (error) {\n",
              "        console.error('Error during call to suggestCharts:', error);\n",
              "      }\n",
              "      quickchartButtonEl.classList.remove('colab-df-spinner');\n",
              "      quickchartButtonEl.classList.add('colab-df-quickchart-complete');\n",
              "    }\n",
              "    (() => {\n",
              "      let quickchartButtonEl =\n",
              "        document.querySelector('#df-1e9115f4-b95b-4190-949d-1a1d28623fb2 button');\n",
              "      quickchartButtonEl.style.display =\n",
              "        google.colab.kernel.accessAllowed ? 'block' : 'none';\n",
              "    })();\n",
              "  </script>\n",
              "</div>\n",
              "\n",
              "    </div>\n",
              "  </div>\n"
            ]
          },
          "metadata": {},
          "execution_count": 58
        }
      ]
    },
    {
      "cell_type": "code",
      "source": [
        "X=df.drop(['PE'],axis=1)"
      ],
      "metadata": {
        "id": "xJEuguT5NqS-"
      },
      "execution_count": 59,
      "outputs": []
    },
    {
      "cell_type": "code",
      "source": [
        "y=df['PE']"
      ],
      "metadata": {
        "id": "oWwxIufVNv69"
      },
      "execution_count": 60,
      "outputs": []
    },
    {
      "cell_type": "code",
      "source": [
        "from sklearn.model_selection import train_test_split\n",
        "X_train,X_test,y_train,y_test=train_test_split(X,y,test_size=0.2,random_state=10)"
      ],
      "metadata": {
        "id": "QfpqGHTyNyr-"
      },
      "execution_count": 61,
      "outputs": []
    },
    {
      "cell_type": "code",
      "source": [
        "from sklearn.preprocessing import MinMaxScaler"
      ],
      "metadata": {
        "id": "HDgr-PZ6OC9B"
      },
      "execution_count": 62,
      "outputs": []
    },
    {
      "cell_type": "code",
      "source": [
        "scaler=MinMaxScaler(\n",
        ")"
      ],
      "metadata": {
        "id": "JLx2uF2OOgjv"
      },
      "execution_count": 63,
      "outputs": []
    },
    {
      "cell_type": "code",
      "source": [
        "X_train_scaled=scaler.fit_transform(X_train)\n",
        "X_test_scaled=scaler.transform(X_test)"
      ],
      "metadata": {
        "id": "npBcW0s8OkyQ"
      },
      "execution_count": 64,
      "outputs": []
    },
    {
      "cell_type": "code",
      "source": [
        "import keras\n",
        "import tensorflow as tf\n",
        "from keras.layers import Dense\n",
        "from keras.models import Sequential"
      ],
      "metadata": {
        "id": "n66sylA_O2ql"
      },
      "execution_count": 65,
      "outputs": []
    },
    {
      "cell_type": "code",
      "source": [
        "\n",
        "# model = Sequential([\n",
        "# Dense(units=8, activation='relu'),\n",
        "#  Dense(units=8, activation='relu'),\n",
        "#  Dense(units=1, activation='linear')\n",
        "# ])"
      ],
      "metadata": {
        "id": "HImEGspRPPi4"
      },
      "execution_count": 66,
      "outputs": []
    },
    {
      "cell_type": "code",
      "source": [
        "model=Sequential()\n",
        "model.add(Dense(4,activation='relu',input_dim=4))\n",
        "model.add(Dense(32,activation='relu'))\n",
        "model.add(Dense(16,activation='relu'))\n",
        "model.add(Dense(8,activation='relu'))\n",
        "model.add(Dense(1,activation='linear'))\n"
      ],
      "metadata": {
        "id": "a2nExcLkRNXz"
      },
      "execution_count": 67,
      "outputs": []
    },
    {
      "cell_type": "code",
      "source": [
        "print(model.summary)"
      ],
      "metadata": {
        "colab": {
          "base_uri": "https://localhost:8080/"
        },
        "id": "WnCJo6lEPSau",
        "outputId": "8254f895-85a8-4cda-c4a5-83d82ce08f9c"
      },
      "execution_count": 68,
      "outputs": [
        {
          "output_type": "stream",
          "name": "stdout",
          "text": [
            "<bound method Model.summary of <keras.src.engine.sequential.Sequential object at 0x7b08d43bc790>>\n"
          ]
        }
      ]
    },
    {
      "cell_type": "code",
      "source": [
        "model.compile(optimizer='adam', loss='mean_squared_error', metrics=['accuracy'])\n",
        "\n",
        "history=model.fit(X_train, y_train, batch_size=20, epochs=50,validation_split=0.2,)"
      ],
      "metadata": {
        "colab": {
          "base_uri": "https://localhost:8080/"
        },
        "id": "y1lZXE91QBt7",
        "outputId": "97905a7f-4d25-4cff-acfc-1592e45a35d7"
      },
      "execution_count": 70,
      "outputs": [
        {
          "output_type": "stream",
          "name": "stdout",
          "text": [
            "Epoch 1/50\n",
            "307/307 [==============================] - 4s 4ms/step - loss: 43112.2500 - accuracy: 0.0000e+00 - val_loss: 1741.0245 - val_accuracy: 0.0000e+00\n",
            "Epoch 2/50\n",
            "307/307 [==============================] - 1s 3ms/step - loss: 1585.1782 - accuracy: 0.0000e+00 - val_loss: 1441.5741 - val_accuracy: 0.0000e+00\n",
            "Epoch 3/50\n",
            "307/307 [==============================] - 1s 3ms/step - loss: 1308.1381 - accuracy: 0.0000e+00 - val_loss: 1193.6360 - val_accuracy: 0.0000e+00\n",
            "Epoch 4/50\n",
            "307/307 [==============================] - 1s 3ms/step - loss: 1095.1384 - accuracy: 0.0000e+00 - val_loss: 997.3320 - val_accuracy: 0.0000e+00\n",
            "Epoch 5/50\n",
            "307/307 [==============================] - 1s 4ms/step - loss: 919.1675 - accuracy: 0.0000e+00 - val_loss: 866.7010 - val_accuracy: 0.0000e+00\n",
            "Epoch 6/50\n",
            "307/307 [==============================] - 1s 4ms/step - loss: 784.1340 - accuracy: 0.0000e+00 - val_loss: 719.3832 - val_accuracy: 0.0000e+00\n",
            "Epoch 7/50\n",
            "307/307 [==============================] - 1s 4ms/step - loss: 664.7692 - accuracy: 0.0000e+00 - val_loss: 612.7570 - val_accuracy: 0.0000e+00\n",
            "Epoch 8/50\n",
            "307/307 [==============================] - 2s 5ms/step - loss: 571.5232 - accuracy: 0.0000e+00 - val_loss: 524.9175 - val_accuracy: 0.0000e+00\n",
            "Epoch 9/50\n",
            "307/307 [==============================] - 2s 6ms/step - loss: 486.2258 - accuracy: 0.0000e+00 - val_loss: 479.5391 - val_accuracy: 0.0000e+00\n",
            "Epoch 10/50\n",
            "307/307 [==============================] - 2s 5ms/step - loss: 416.7761 - accuracy: 0.0000e+00 - val_loss: 382.7262 - val_accuracy: 0.0000e+00\n",
            "Epoch 11/50\n",
            "307/307 [==============================] - 1s 3ms/step - loss: 356.5122 - accuracy: 0.0000e+00 - val_loss: 321.1318 - val_accuracy: 0.0000e+00\n",
            "Epoch 12/50\n",
            "307/307 [==============================] - 1s 4ms/step - loss: 300.9710 - accuracy: 0.0000e+00 - val_loss: 270.6445 - val_accuracy: 0.0000e+00\n",
            "Epoch 13/50\n",
            "307/307 [==============================] - 1s 3ms/step - loss: 246.5651 - accuracy: 0.0000e+00 - val_loss: 227.1917 - val_accuracy: 0.0000e+00\n",
            "Epoch 14/50\n",
            "307/307 [==============================] - 1s 4ms/step - loss: 208.4096 - accuracy: 0.0000e+00 - val_loss: 182.4008 - val_accuracy: 0.0000e+00\n",
            "Epoch 15/50\n",
            "307/307 [==============================] - 1s 3ms/step - loss: 167.4539 - accuracy: 0.0000e+00 - val_loss: 147.4206 - val_accuracy: 0.0000e+00\n",
            "Epoch 16/50\n",
            "307/307 [==============================] - 1s 3ms/step - loss: 131.7753 - accuracy: 0.0000e+00 - val_loss: 117.0035 - val_accuracy: 0.0000e+00\n",
            "Epoch 17/50\n",
            "307/307 [==============================] - 1s 3ms/step - loss: 103.7571 - accuracy: 0.0000e+00 - val_loss: 89.0594 - val_accuracy: 0.0000e+00\n",
            "Epoch 18/50\n",
            "307/307 [==============================] - 1s 3ms/step - loss: 82.0750 - accuracy: 0.0000e+00 - val_loss: 68.5820 - val_accuracy: 0.0000e+00\n",
            "Epoch 19/50\n",
            "307/307 [==============================] - 1s 3ms/step - loss: 62.4961 - accuracy: 0.0000e+00 - val_loss: 60.2486 - val_accuracy: 0.0000e+00\n",
            "Epoch 20/50\n",
            "307/307 [==============================] - 1s 4ms/step - loss: 49.1410 - accuracy: 0.0000e+00 - val_loss: 47.2079 - val_accuracy: 0.0000e+00\n",
            "Epoch 21/50\n",
            "307/307 [==============================] - 2s 5ms/step - loss: 39.8739 - accuracy: 0.0000e+00 - val_loss: 34.6226 - val_accuracy: 0.0000e+00\n",
            "Epoch 22/50\n",
            "307/307 [==============================] - 2s 5ms/step - loss: 34.1702 - accuracy: 0.0000e+00 - val_loss: 39.2271 - val_accuracy: 0.0000e+00\n",
            "Epoch 23/50\n",
            "307/307 [==============================] - 1s 4ms/step - loss: 32.9300 - accuracy: 0.0000e+00 - val_loss: 46.5363 - val_accuracy: 0.0000e+00\n",
            "Epoch 24/50\n",
            "307/307 [==============================] - 1s 4ms/step - loss: 29.9766 - accuracy: 0.0000e+00 - val_loss: 32.4363 - val_accuracy: 0.0000e+00\n",
            "Epoch 25/50\n",
            "307/307 [==============================] - 1s 4ms/step - loss: 29.9442 - accuracy: 0.0000e+00 - val_loss: 50.4294 - val_accuracy: 0.0000e+00\n",
            "Epoch 26/50\n",
            "307/307 [==============================] - 1s 3ms/step - loss: 29.1756 - accuracy: 0.0000e+00 - val_loss: 29.5200 - val_accuracy: 0.0000e+00\n",
            "Epoch 27/50\n",
            "307/307 [==============================] - 1s 3ms/step - loss: 29.6322 - accuracy: 0.0000e+00 - val_loss: 33.3394 - val_accuracy: 0.0000e+00\n",
            "Epoch 28/50\n",
            "307/307 [==============================] - 1s 3ms/step - loss: 28.2930 - accuracy: 0.0000e+00 - val_loss: 25.7438 - val_accuracy: 0.0000e+00\n",
            "Epoch 29/50\n",
            "307/307 [==============================] - 1s 3ms/step - loss: 30.3088 - accuracy: 0.0000e+00 - val_loss: 25.8528 - val_accuracy: 0.0000e+00\n",
            "Epoch 30/50\n",
            "307/307 [==============================] - 1s 3ms/step - loss: 28.2104 - accuracy: 0.0000e+00 - val_loss: 48.3094 - val_accuracy: 0.0000e+00\n",
            "Epoch 31/50\n",
            "307/307 [==============================] - 1s 4ms/step - loss: 29.1520 - accuracy: 0.0000e+00 - val_loss: 25.5474 - val_accuracy: 0.0000e+00\n",
            "Epoch 32/50\n",
            "307/307 [==============================] - 1s 4ms/step - loss: 28.9373 - accuracy: 0.0000e+00 - val_loss: 26.7508 - val_accuracy: 0.0000e+00\n",
            "Epoch 33/50\n",
            "307/307 [==============================] - 1s 5ms/step - loss: 28.4615 - accuracy: 0.0000e+00 - val_loss: 35.7413 - val_accuracy: 0.0000e+00\n",
            "Epoch 34/50\n",
            "307/307 [==============================] - 2s 5ms/step - loss: 28.4130 - accuracy: 0.0000e+00 - val_loss: 26.5435 - val_accuracy: 0.0000e+00\n",
            "Epoch 35/50\n",
            "307/307 [==============================] - 1s 3ms/step - loss: 27.8131 - accuracy: 0.0000e+00 - val_loss: 26.5664 - val_accuracy: 0.0000e+00\n",
            "Epoch 36/50\n",
            "307/307 [==============================] - 1s 3ms/step - loss: 28.7281 - accuracy: 0.0000e+00 - val_loss: 25.3531 - val_accuracy: 0.0000e+00\n",
            "Epoch 37/50\n",
            "307/307 [==============================] - 1s 3ms/step - loss: 28.6146 - accuracy: 0.0000e+00 - val_loss: 31.8246 - val_accuracy: 0.0000e+00\n",
            "Epoch 38/50\n",
            "307/307 [==============================] - 1s 3ms/step - loss: 28.4271 - accuracy: 0.0000e+00 - val_loss: 34.2387 - val_accuracy: 0.0000e+00\n",
            "Epoch 39/50\n",
            "307/307 [==============================] - 1s 4ms/step - loss: 28.6926 - accuracy: 0.0000e+00 - val_loss: 25.8367 - val_accuracy: 0.0000e+00\n",
            "Epoch 40/50\n",
            "307/307 [==============================] - 1s 3ms/step - loss: 28.9227 - accuracy: 0.0000e+00 - val_loss: 29.1628 - val_accuracy: 0.0000e+00\n",
            "Epoch 41/50\n",
            "307/307 [==============================] - 1s 3ms/step - loss: 28.0878 - accuracy: 0.0000e+00 - val_loss: 29.9536 - val_accuracy: 0.0000e+00\n",
            "Epoch 42/50\n",
            "307/307 [==============================] - 1s 3ms/step - loss: 27.8252 - accuracy: 0.0000e+00 - val_loss: 25.5466 - val_accuracy: 0.0000e+00\n",
            "Epoch 43/50\n",
            "307/307 [==============================] - 1s 3ms/step - loss: 29.1521 - accuracy: 0.0000e+00 - val_loss: 27.8023 - val_accuracy: 0.0000e+00\n",
            "Epoch 44/50\n",
            "307/307 [==============================] - 1s 3ms/step - loss: 29.6942 - accuracy: 0.0000e+00 - val_loss: 40.4424 - val_accuracy: 0.0000e+00\n",
            "Epoch 45/50\n",
            "307/307 [==============================] - 1s 5ms/step - loss: 28.9532 - accuracy: 0.0000e+00 - val_loss: 33.9055 - val_accuracy: 0.0000e+00\n",
            "Epoch 46/50\n",
            "307/307 [==============================] - 2s 5ms/step - loss: 28.4729 - accuracy: 0.0000e+00 - val_loss: 25.1252 - val_accuracy: 0.0000e+00\n",
            "Epoch 47/50\n",
            "307/307 [==============================] - 2s 5ms/step - loss: 29.1265 - accuracy: 0.0000e+00 - val_loss: 29.6885 - val_accuracy: 0.0000e+00\n",
            "Epoch 48/50\n",
            "307/307 [==============================] - 1s 4ms/step - loss: 27.3772 - accuracy: 0.0000e+00 - val_loss: 25.7413 - val_accuracy: 0.0000e+00\n",
            "Epoch 49/50\n",
            "307/307 [==============================] - 1s 4ms/step - loss: 28.7083 - accuracy: 0.0000e+00 - val_loss: 25.8336 - val_accuracy: 0.0000e+00\n",
            "Epoch 50/50\n",
            "307/307 [==============================] - 1s 3ms/step - loss: 28.4383 - accuracy: 0.0000e+00 - val_loss: 59.7894 - val_accuracy: 0.0000e+00\n"
          ]
        }
      ]
    },
    {
      "cell_type": "code",
      "source": [
        "import matplotlib.pyplot as plt\n",
        "plt.plot(history.history['loss'])\n",
        "plt.plot(history.history['val_loss'])"
      ],
      "metadata": {
        "colab": {
          "base_uri": "https://localhost:8080/",
          "height": 447
        },
        "id": "vbQ2NDVPQKhs",
        "outputId": "5f52a81a-683b-4b22-bfc2-691ccd7261bb"
      },
      "execution_count": 71,
      "outputs": [
        {
          "output_type": "execute_result",
          "data": {
            "text/plain": [
              "[<matplotlib.lines.Line2D at 0x7b08d52493f0>]"
            ]
          },
          "metadata": {},
          "execution_count": 71
        },
        {
          "output_type": "display_data",
          "data": {
            "text/plain": [
              "<Figure size 640x480 with 1 Axes>"
            ],
            "image/png": "[encoded data removed]"
          },
          "metadata": {}
        }
      ]
    },
    {
      "cell_type": "code",
      "source": [],
      "metadata": {
        "id": "zrZVzerWUMwP"
      },
      "execution_count": null,
      "outputs": []
    }
  ]
}